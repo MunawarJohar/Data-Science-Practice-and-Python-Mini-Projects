{
 "cells": [
  {
   "cell_type": "code",
   "execution_count": 4,
   "id": "0ff1f44a",
   "metadata": {},
   "outputs": [],
   "source": [
    "import phonenumbers\n",
    "from phonenumbers import timezone,geocoder,carrier"
   ]
  },
  {
   "cell_type": "code",
   "execution_count": 5,
   "id": "d33816ab",
   "metadata": {},
   "outputs": [
    {
     "name": "stdout",
     "output_type": "stream",
     "text": [
      "Enter your number :+923555791615\n"
     ]
    }
   ],
   "source": [
    "phoneNumber=input(\"Enter your number :\")\n",
    "phone=phonenumbers.parse(phoneNumber)\n",
    "time=timezone.time_zones_for_number(phone)\n",
    "car=carrier.name_for_number(phone,\"en\")\n",
    "reg=geocoder.description_for_number(phone,\"en\")"
   ]
  },
  {
   "cell_type": "code",
   "execution_count": 6,
   "id": "52f962d0",
   "metadata": {},
   "outputs": [
    {
     "name": "stdout",
     "output_type": "stream",
     "text": [
      "('Asia/Karachi',)\n",
      "Special Communications Organization\n",
      "Pakistan\n"
     ]
    }
   ],
   "source": [
    "print(time)\n",
    "print(car)\n",
    "print(reg)"
   ]
  },
  {
   "cell_type": "code",
   "execution_count": null,
   "id": "c7be746a",
   "metadata": {},
   "outputs": [],
   "source": []
  }
 ],
 "metadata": {
  "kernelspec": {
   "display_name": "Python 3 (ipykernel)",
   "language": "python",
   "name": "python3"
  },
  "language_info": {
   "codemirror_mode": {
    "name": "ipython",
    "version": 3
   },
   "file_extension": ".py",
   "mimetype": "text/x-python",
   "name": "python",
   "nbconvert_exporter": "python",
   "pygments_lexer": "ipython3",
   "version": "3.10.4"
  }
 },
 "nbformat": 4,
 "nbformat_minor": 5
}
