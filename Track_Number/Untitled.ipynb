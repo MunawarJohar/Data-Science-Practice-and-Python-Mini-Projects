{
 "cells": [
  {
   "cell_type": "code",
   "execution_count": 1,
   "id": "a10c1313",
   "metadata": {},
   "outputs": [],
   "source": [
    "import phonenumbers"
   ]
  },
  {
   "cell_type": "code",
   "execution_count": 2,
   "id": "0250ef84",
   "metadata": {},
   "outputs": [],
   "source": [
    "number=\"+3555792615\""
   ]
  },
  {
   "cell_type": "code",
   "execution_count": 3,
   "id": "91cf7a9b",
   "metadata": {},
   "outputs": [],
   "source": [
    "from phonenumbers import geocoder\n",
    "codeNumber=phonenumbers.parse(number,\"CH\")"
   ]
  },
  {
   "cell_type": "code",
   "execution_count": 4,
   "id": "a49e1b51",
   "metadata": {},
   "outputs": [
    {
     "name": "stdout",
     "output_type": "stream",
     "text": [
      "\n"
     ]
    }
   ],
   "source": [
    "print(geocoder.description_for_number(codeNumber,\"en\"))"
   ]
  },
  {
   "cell_type": "code",
   "execution_count": 5,
   "id": "d6e5e069",
   "metadata": {},
   "outputs": [
    {
     "name": "stdout",
     "output_type": "stream",
     "text": [
      "\n"
     ]
    }
   ],
   "source": [
    "from phonenumbers import carrier\n",
    "service_number=phonenumbers.parse(number,\"RO\")\n",
    "print(carrier.name_for_number(service_number,\"en\"))"
   ]
  },
  {
   "cell_type": "code",
   "execution_count": null,
   "id": "eeccbebf",
   "metadata": {},
   "outputs": [],
   "source": []
  },
  {
   "cell_type": "code",
   "execution_count": null,
   "id": "8273f54e",
   "metadata": {},
   "outputs": [],
   "source": []
  }
 ],
 "metadata": {
  "kernelspec": {
   "display_name": "Python 3 (ipykernel)",
   "language": "python",
   "name": "python3"
  },
  "language_info": {
   "codemirror_mode": {
    "name": "ipython",
    "version": 3
   },
   "file_extension": ".py",
   "mimetype": "text/x-python",
   "name": "python",
   "nbconvert_exporter": "python",
   "pygments_lexer": "ipython3",
   "version": "3.10.4"
  }
 },
 "nbformat": 4,
 "nbformat_minor": 5
}
