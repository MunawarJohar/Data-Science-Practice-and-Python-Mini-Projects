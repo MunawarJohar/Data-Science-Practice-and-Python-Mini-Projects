{
 "cells": [
  {
   "cell_type": "code",
   "execution_count": 1,
   "id": "c51811c5",
   "metadata": {},
   "outputs": [],
   "source": [
    "import json  #json can store object"
   ]
  },
  {
   "cell_type": "code",
   "execution_count": 2,
   "id": "fcc95cfa",
   "metadata": {},
   "outputs": [],
   "source": [
    "json_data='{\"a\":1,\"k\":3,\"m\":148}'"
   ]
  },
  {
   "cell_type": "code",
   "execution_count": 3,
   "id": "f1b5a985",
   "metadata": {},
   "outputs": [
    {
     "data": {
      "text/plain": [
       "2"
      ]
     },
     "execution_count": 3,
     "metadata": {},
     "output_type": "execute_result"
    }
   ],
   "source": [
    "json_data.find(\"a\")"
   ]
  },
  {
   "cell_type": "code",
   "execution_count": 4,
   "id": "7f4eea13",
   "metadata": {},
   "outputs": [],
   "source": [
    "j=json.loads(json_data)"
   ]
  },
  {
   "cell_type": "code",
   "execution_count": 12,
   "id": "55e03f4c",
   "metadata": {},
   "outputs": [
    {
     "data": {
      "text/plain": [
       "{'a': 1, 'k': 3, 'm': 148}"
      ]
     },
     "execution_count": 12,
     "metadata": {},
     "output_type": "execute_result"
    }
   ],
   "source": [
    "j"
   ]
  },
  {
   "cell_type": "code",
   "execution_count": 5,
   "id": "ce9fd444",
   "metadata": {},
   "outputs": [
    {
     "data": {
      "text/plain": [
       "148"
      ]
     },
     "execution_count": 5,
     "metadata": {},
     "output_type": "execute_result"
    }
   ],
   "source": [
    "j['m']"
   ]
  },
  {
   "cell_type": "code",
   "execution_count": 13,
   "id": "35a5ea4f",
   "metadata": {},
   "outputs": [],
   "source": [
    "\n",
    "\n",
    "json_d='''\n",
    "{\n",
    "\"array\":\n",
    "{\n",
    "\"local\":\"Server\",\n",
    "\"Host\":\"munawar.com\",\n",
    "\"date\":\"18-09-2022\",\n",
    "\"gmail\":\"munawar151512@gmail.com\",\n",
    "\"phone\":\"03555791615\"\n",
    "}\n",
    "}'''"
   ]
  },
  {
   "cell_type": "code",
   "execution_count": 14,
   "id": "ee2c5ca8",
   "metadata": {},
   "outputs": [],
   "source": [
    "jd=json.loads(json_d)"
   ]
  },
  {
   "cell_type": "code",
   "execution_count": 15,
   "id": "06db6144",
   "metadata": {},
   "outputs": [],
   "source": [
    "with open('text.json',\"w\") as f:\n",
    "     json.dump(jd,f)"
   ]
  },
  {
   "cell_type": "code",
   "execution_count": 16,
   "id": "964ef721",
   "metadata": {},
   "outputs": [
    {
     "data": {
      "text/plain": [
       "{'array': {'local': 'Server',\n",
       "  'Host': 'munawar.com',\n",
       "  'date': '18-09-2022',\n",
       "  'gmail': 'munawar151512@gmail.com',\n",
       "  'phone': '03555791615'}}"
      ]
     },
     "execution_count": 16,
     "metadata": {},
     "output_type": "execute_result"
    }
   ],
   "source": [
    "jd"
   ]
  },
  {
   "cell_type": "code",
   "execution_count": 17,
   "id": "8b6a269d",
   "metadata": {},
   "outputs": [],
   "source": [
    "with open('text.json',\"r\") as f:\n",
    "    file=f.read()"
   ]
  },
  {
   "cell_type": "code",
   "execution_count": 18,
   "id": "c38fcdf3",
   "metadata": {},
   "outputs": [
    {
     "data": {
      "text/plain": [
       "'{\"array\": {\"local\": \"Server\", \"Host\": \"munawar.com\", \"date\": \"18-09-2022\", \"gmail\": \"munawar151512@gmail.com\", \"phone\": \"03555791615\"}}'"
      ]
     },
     "execution_count": 18,
     "metadata": {},
     "output_type": "execute_result"
    }
   ],
   "source": [
    "file #read the file "
   ]
  },
  {
   "cell_type": "code",
   "execution_count": null,
   "id": "9d249216",
   "metadata": {},
   "outputs": [],
   "source": []
  }
 ],
 "metadata": {
  "kernelspec": {
   "display_name": "Python 3 (ipykernel)",
   "language": "python",
   "name": "python3"
  },
  "language_info": {
   "codemirror_mode": {
    "name": "ipython",
    "version": 3
   },
   "file_extension": ".py",
   "mimetype": "text/x-python",
   "name": "python",
   "nbconvert_exporter": "python",
   "pygments_lexer": "ipython3",
   "version": "3.10.4"
  }
 },
 "nbformat": 4,
 "nbformat_minor": 5
}
