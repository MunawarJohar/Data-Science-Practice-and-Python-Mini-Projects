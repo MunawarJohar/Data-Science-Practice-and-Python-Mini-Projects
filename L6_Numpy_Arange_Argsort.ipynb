{
 "cells": [
  {
   "cell_type": "code",
   "execution_count": 1,
   "id": "4d102825",
   "metadata": {},
   "outputs": [],
   "source": [
    "import numpy as np\n"
   ]
  },
  {
   "cell_type": "code",
   "execution_count": 2,
   "id": "5f243d00",
   "metadata": {},
   "outputs": [],
   "source": [
    "n=np.arange(7)\n"
   ]
  },
  {
   "cell_type": "code",
   "execution_count": 3,
   "id": "f4fcae03",
   "metadata": {},
   "outputs": [
    {
     "data": {
      "text/plain": [
       "array([0, 1, 2, 3, 4, 5, 6])"
      ]
     },
     "execution_count": 3,
     "metadata": {},
     "output_type": "execute_result"
    }
   ],
   "source": [
    "n\n"
   ]
  },
  {
   "cell_type": "code",
   "execution_count": 9,
   "id": "d0ddf662",
   "metadata": {},
   "outputs": [],
   "source": [
    "n2=np.array([3,4,5,6,7,8,9,10,11,12,13,14])\n",
    "n2=n2.reshape(6,2)\n",
    "#reshape the array 6 rows and 2 columns\n"
   ]
  },
  {
   "cell_type": "code",
   "execution_count": 8,
   "id": "c4a58eda",
   "metadata": {},
   "outputs": [
    {
     "data": {
      "text/plain": [
       "array([[ 3,  4],\n",
       "       [ 5,  6],\n",
       "       [ 7,  8],\n",
       "       [ 9, 10],\n",
       "       [11, 12],\n",
       "       [13, 14]])"
      ]
     },
     "execution_count": 8,
     "metadata": {},
     "output_type": "execute_result"
    }
   ],
   "source": [
    "n2\n"
   ]
  },
  {
   "cell_type": "code",
   "execution_count": 10,
   "id": "0cba48d6",
   "metadata": {},
   "outputs": [
    {
     "data": {
      "text/plain": [
       "array([[0, 1],\n",
       "       [0, 1],\n",
       "       [0, 1],\n",
       "       [0, 1],\n",
       "       [0, 1],\n",
       "       [0, 1]], dtype=int64)"
      ]
     },
     "execution_count": 10,
     "metadata": {},
     "output_type": "execute_result"
    }
   ],
   "source": [
    "np.argsort(n2)\n"
   ]
  },
  {
   "cell_type": "code",
   "execution_count": 11,
   "id": "84a9f4ee",
   "metadata": {},
   "outputs": [
    {
     "data": {
      "text/plain": [
       "0"
      ]
     },
     "execution_count": 11,
     "metadata": {},
     "output_type": "execute_result"
    }
   ],
   "source": [
    "np.argmin(n2)  #3 is smallest value in 0 index\n"
   ]
  },
  {
   "cell_type": "code",
   "execution_count": 13,
   "id": "71c7e35c",
   "metadata": {},
   "outputs": [
    {
     "data": {
      "text/plain": [
       "11"
      ]
     },
     "execution_count": 13,
     "metadata": {},
     "output_type": "execute_result"
    }
   ],
   "source": [
    "np.argmax(n2)   #14 is largest value in 11 index\n"
   ]
  },
  {
   "cell_type": "code",
   "execution_count": 18,
   "id": "bca227ee",
   "metadata": {},
   "outputs": [],
   "source": [
    "#np.argsort(n2 ,axis=0)\n"
   ]
  },
  {
   "cell_type": "code",
   "execution_count": null,
   "id": "c63488dc",
   "metadata": {},
   "outputs": [],
   "source": []
  }
 ],
 "metadata": {
  "kernelspec": {
   "display_name": "Python 3 (ipykernel)",
   "language": "python",
   "name": "python3"
  },
  "language_info": {
   "codemirror_mode": {
    "name": "ipython",
    "version": 3
   },
   "file_extension": ".py",
   "mimetype": "text/x-python",
   "name": "python",
   "nbconvert_exporter": "python",
   "pygments_lexer": "ipython3",
   "version": "3.10.4"
  }
 },
 "nbformat": 4,
 "nbformat_minor": 5
}
