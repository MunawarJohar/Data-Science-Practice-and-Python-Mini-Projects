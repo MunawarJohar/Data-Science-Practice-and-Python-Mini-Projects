{
 "cells": [
  {
   "cell_type": "code",
   "execution_count": 5,
   "id": "5aae61ff",
   "metadata": {},
   "outputs": [],
   "source": [
    "import random"
   ]
  },
  {
   "cell_type": "code",
   "execution_count": 10,
   "id": "20571530",
   "metadata": {},
   "outputs": [
    {
     "name": "stdout",
     "output_type": "stream",
     "text": [
      "Enter the length of require password8\n",
      "Enter the number of require password5\n"
     ]
    }
   ],
   "source": [
    "pass_Characters=\"abcdefghijklmnopqrstuvwxyzABCDEFGHIJKLMNOPQRSTUVWXYZ0123456789!#@$%^&*£_\"\n",
    "lenght_password=int(input(\"Enter the length of require password\"))\n",
    "count_password=int(input(\"Enter the number of require password\"))"
   ]
  },
  {
   "cell_type": "code",
   "execution_count": 11,
   "id": "91365e5a",
   "metadata": {},
   "outputs": [
    {
     "name": "stdout",
     "output_type": "stream",
     "text": [
      "the Generated password is  k\n",
      "the Generated password is  k2\n",
      "the Generated password is  k2c\n",
      "the Generated password is  k2cL\n",
      "the Generated password is  k2cL#\n",
      "the Generated password is  k2cL#a\n",
      "the Generated password is  k2cL#aS\n",
      "the Generated password is  k2cL#aS^\n",
      "the Generated password is  t\n",
      "the Generated password is  t5\n",
      "the Generated password is  t5A\n",
      "the Generated password is  t5AN\n",
      "the Generated password is  t5AN&\n",
      "the Generated password is  t5AN&O\n",
      "the Generated password is  t5AN&OQ\n",
      "the Generated password is  t5AN&OQr\n",
      "the Generated password is  1\n",
      "the Generated password is  1o\n",
      "the Generated password is  1oC\n",
      "the Generated password is  1oCy\n",
      "the Generated password is  1oCyq\n",
      "the Generated password is  1oCyqy\n",
      "the Generated password is  1oCyqyz\n",
      "the Generated password is  1oCyqyz@\n",
      "the Generated password is  2\n",
      "the Generated password is  2W\n",
      "the Generated password is  2W4\n",
      "the Generated password is  2W4p\n",
      "the Generated password is  2W4pV\n",
      "the Generated password is  2W4pVz\n",
      "the Generated password is  2W4pVzU\n",
      "the Generated password is  2W4pVzUR\n",
      "the Generated password is  g\n",
      "the Generated password is  g#\n",
      "the Generated password is  g#$\n",
      "the Generated password is  g#$Y\n",
      "the Generated password is  g#$Y3\n",
      "the Generated password is  g#$Y3B\n",
      "the Generated password is  g#$Y3B@\n",
      "the Generated password is  g#$Y3B@u\n"
     ]
    }
   ],
   "source": [
    "for i in range(0,count_password):\n",
    "    password_store=\"\"\n",
    "    for k in range(0,lenght_password):\n",
    "        password_char=random.choice(pass_Characters)\n",
    "        password_store=password_store+password_char\n",
    "        print(\"the Generated password is \",password_store)"
   ]
  },
  {
   "cell_type": "code",
   "execution_count": 12,
   "id": "46e86fe1",
   "metadata": {},
   "outputs": [
    {
     "name": "stdout",
     "output_type": "stream",
     "text": [
      "Generated strong password for you  g#$Y3B@u\n"
     ]
    }
   ],
   "source": [
    "print(\"Generated strong password for you \",password_store)"
   ]
  },
  {
   "cell_type": "code",
   "execution_count": null,
   "id": "64c95995",
   "metadata": {},
   "outputs": [],
   "source": []
  }
 ],
 "metadata": {
  "kernelspec": {
   "display_name": "Python 3 (ipykernel)",
   "language": "python",
   "name": "python3"
  },
  "language_info": {
   "codemirror_mode": {
    "name": "ipython",
    "version": 3
   },
   "file_extension": ".py",
   "mimetype": "text/x-python",
   "name": "python",
   "nbconvert_exporter": "python",
   "pygments_lexer": "ipython3",
   "version": "3.10.4"
  }
 },
 "nbformat": 4,
 "nbformat_minor": 5
}
