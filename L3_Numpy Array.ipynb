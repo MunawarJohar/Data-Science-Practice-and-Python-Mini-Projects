{
 "cells": [
  {
   "cell_type": "code",
   "execution_count": 2,
   "id": "0f4f3c00",
   "metadata": {},
   "outputs": [
    {
     "name": "stdout",
     "output_type": "stream",
     "text": [
      "[23, 445, 566, 33]\n"
     ]
    }
   ],
   "source": [
    "# numpy numarical python\n",
    "list1=[23,445,566,33]\n",
    "print(list1)\n",
    "#numpy is written in c language and  it is fast\n"
   ]
  },
  {
   "cell_type": "code",
   "execution_count": 15,
   "id": "51cdfb9d",
   "metadata": {},
   "outputs": [
    {
     "name": "stdout",
     "output_type": "stream",
     "text": [
      "[3, 4, 3, 22, 33]\n"
     ]
    },
    {
     "data": {
      "text/plain": [
       "array([ 3, 66,  7,  8, 55,  3, 22, 44,  5])"
      ]
     },
     "execution_count": 15,
     "metadata": {},
     "output_type": "execute_result"
    }
   ],
   "source": [
    "import numpy as np\n",
    "list2=[3,4,3,22,33]\n",
    "print(list2)\n",
    "arrays=np.arange(33)\n",
    "\n",
    "np.array([3,66,7,8,55,3,22,44,5])"
   ]
  },
  {
   "cell_type": "code",
   "execution_count": null,
   "id": "45e04584",
   "metadata": {},
   "outputs": [],
   "source": []
  },
  {
   "cell_type": "code",
   "execution_count": null,
   "id": "262a4fc5",
   "metadata": {},
   "outputs": [],
   "source": []
  }
 ],
 "metadata": {
  "kernelspec": {
   "display_name": "Python 3 (ipykernel)",
   "language": "python",
   "name": "python3"
  },
  "language_info": {
   "codemirror_mode": {
    "name": "ipython",
    "version": 3
   },
   "file_extension": ".py",
   "mimetype": "text/x-python",
   "name": "python",
   "nbconvert_exporter": "python",
   "pygments_lexer": "ipython3",
   "version": "3.10.4"
  }
 },
 "nbformat": 4,
 "nbformat_minor": 5
}
