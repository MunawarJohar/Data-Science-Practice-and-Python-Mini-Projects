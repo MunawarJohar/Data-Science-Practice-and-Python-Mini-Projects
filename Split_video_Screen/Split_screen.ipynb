{
 "cells": [
  {
   "cell_type": "code",
   "execution_count": 1,
   "id": "ff3c77a6",
   "metadata": {},
   "outputs": [],
   "source": [
    "from moviepy.editor import*"
   ]
  },
  {
   "cell_type": "code",
   "execution_count": 3,
   "id": "241c3247",
   "metadata": {},
   "outputs": [],
   "source": [
    "video1=VideoFileClip(\"tkinter.mp4\").subclip(0,5)\n",
    "video2=VideoFileClip(\"video2.mp4\").subclip(0,5)\n",
    "video3=VideoFileClip(\"video3.mp4\").subclip(0,5)\n",
    "video4=VideoFileClip(\"mixVideo.mp4\").subclip(0,5)"
   ]
  },
  {
   "cell_type": "code",
   "execution_count": 4,
   "id": "70a3d093",
   "metadata": {},
   "outputs": [],
   "source": [
    "comb=clips_array([[video1,video2],[video3,video4]])"
   ]
  },
  {
   "cell_type": "code",
   "execution_count": 5,
   "id": "51e77cd0",
   "metadata": {},
   "outputs": [
    {
     "name": "stdout",
     "output_type": "stream",
     "text": [
      "Moviepy - Building video all.mp4.\n",
      "MoviePy - Writing audio in allTEMP_MPY_wvf_snd.mp3\n"
     ]
    },
    {
     "name": "stderr",
     "output_type": "stream",
     "text": [
      "                                                                                                                       \r"
     ]
    },
    {
     "name": "stdout",
     "output_type": "stream",
     "text": [
      "MoviePy - Done.\n",
      "Moviepy - Writing video all.mp4\n",
      "\n"
     ]
    },
    {
     "name": "stderr",
     "output_type": "stream",
     "text": [
      "                                                                                                                       \r"
     ]
    },
    {
     "name": "stdout",
     "output_type": "stream",
     "text": [
      "Moviepy - Done !\n",
      "Moviepy - video ready all.mp4\n"
     ]
    }
   ],
   "source": [
    "comb.write_videofile(\"all.mp4\")"
   ]
  },
  {
   "cell_type": "code",
   "execution_count": null,
   "id": "2175f3e4",
   "metadata": {},
   "outputs": [],
   "source": []
  }
 ],
 "metadata": {
  "kernelspec": {
   "display_name": "Python 3 (ipykernel)",
   "language": "python",
   "name": "python3"
  },
  "language_info": {
   "codemirror_mode": {
    "name": "ipython",
    "version": 3
   },
   "file_extension": ".py",
   "mimetype": "text/x-python",
   "name": "python",
   "nbconvert_exporter": "python",
   "pygments_lexer": "ipython3",
   "version": "3.10.4"
  }
 },
 "nbformat": 4,
 "nbformat_minor": 5
}
