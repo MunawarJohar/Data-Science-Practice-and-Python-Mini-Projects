{
 "cells": [
  {
   "cell_type": "code",
   "execution_count": 1,
   "id": "b2dff529",
   "metadata": {},
   "outputs": [],
   "source": [
    "import pikepdf #module"
   ]
  },
  {
   "cell_type": "code",
   "execution_count": 4,
   "id": "714b9dc5",
   "metadata": {},
   "outputs": [],
   "source": [
    "your_pdf=pikepdf.Pdf.open(\"My_Resumes.pdf\")\n",
    "no_extract=pikepdf.Permissions(extract=False)"
   ]
  },
  {
   "cell_type": "code",
   "execution_count": 7,
   "id": "e8777dfe",
   "metadata": {},
   "outputs": [],
   "source": [
    "your_pdf.save(\"protected_pdf.pdf\",encryption=pikepdf.Encryption(user=\"uobs148\",owner=\"munawar\",allow=no_extract))"
   ]
  },
  {
   "cell_type": "code",
   "execution_count": null,
   "id": "604e4c2b",
   "metadata": {},
   "outputs": [],
   "source": []
  }
 ],
 "metadata": {
  "kernelspec": {
   "display_name": "Python 3 (ipykernel)",
   "language": "python",
   "name": "python3"
  },
  "language_info": {
   "codemirror_mode": {
    "name": "ipython",
    "version": 3
   },
   "file_extension": ".py",
   "mimetype": "text/x-python",
   "name": "python",
   "nbconvert_exporter": "python",
   "pygments_lexer": "ipython3",
   "version": "3.10.4"
  },
  "vscode": {
   "interpreter": {
    "hash": "0c7f65d61c7c09cadba645479d14cf6c706a30d731865561fcd15395d2872ab1"
   }
  }
 },
 "nbformat": 4,
 "nbformat_minor": 5
}
