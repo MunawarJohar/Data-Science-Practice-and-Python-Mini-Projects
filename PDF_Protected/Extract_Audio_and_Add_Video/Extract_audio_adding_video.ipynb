{
 "cells": [
  {
   "cell_type": "code",
   "execution_count": 6,
   "id": "796d36e4",
   "metadata": {},
   "outputs": [],
   "source": [
    "from moviepy.editor import*"
   ]
  },
  {
   "cell_type": "code",
   "execution_count": 2,
   "id": "9d84f8f8",
   "metadata": {},
   "outputs": [
    {
     "name": "stdout",
     "output_type": "stream",
     "text": [
      "MoviePy - Writing audio in SubcribeAudio.mp3\n"
     ]
    },
    {
     "name": "stderr",
     "output_type": "stream",
     "text": [
      "                                                                                                                       "
     ]
    },
    {
     "name": "stdout",
     "output_type": "stream",
     "text": [
      "MoviePy - Done.\n"
     ]
    },
    {
     "name": "stderr",
     "output_type": "stream",
     "text": [
      "\r"
     ]
    }
   ],
   "source": [
    "subscribe=VideoFileClip(\"subcribe.mp4\").subclip(0,5)\n",
    "subscribe.audio.write_audiofile(\"SubcribeAudio.mp3\")"
   ]
  },
  {
   "cell_type": "code",
   "execution_count": 8,
   "id": "95f02a4c",
   "metadata": {},
   "outputs": [
    {
     "name": "stdout",
     "output_type": "stream",
     "text": [
      "MoviePy - Writing audio in tkinterAudio.mp3\n"
     ]
    },
    {
     "name": "stderr",
     "output_type": "stream",
     "text": [
      "                                                                                                                       "
     ]
    },
    {
     "name": "stdout",
     "output_type": "stream",
     "text": [
      "MoviePy - Done.\n"
     ]
    },
    {
     "name": "stderr",
     "output_type": "stream",
     "text": [
      "\r"
     ]
    }
   ],
   "source": [
    "tkinters=VideoFileClip(\"tkinter.mp4\").subclip(0,5)\n",
    "tkinters.audio.write_audiofile(\"tkinterAudio.mp3\")"
   ]
  },
  {
   "cell_type": "markdown",
   "id": "8f018219",
   "metadata": {},
   "source": [
    "# For Exacting video without audio"
   ]
  },
  {
   "cell_type": "code",
   "execution_count": 9,
   "id": "a50096d9",
   "metadata": {},
   "outputs": [
    {
     "name": "stdout",
     "output_type": "stream",
     "text": [
      "Moviepy - Building video without_subcribe.mp4.\n",
      "Moviepy - Writing video without_subcribe.mp4\n",
      "\n"
     ]
    },
    {
     "name": "stderr",
     "output_type": "stream",
     "text": [
      "                                                                                                                       \r"
     ]
    },
    {
     "name": "stdout",
     "output_type": "stream",
     "text": [
      "Moviepy - Done !\n",
      "Moviepy - video ready without_subcribe.mp4\n"
     ]
    }
   ],
   "source": [
    "subscribe=VideoFileClip(\"subcribe.mp4\").subclip(0,5)\n",
    "subscribe=subscribe.without_audio()\n",
    "subscribe.write_videofile(\"without_subcribe.mp4\")"
   ]
  },
  {
   "cell_type": "markdown",
   "id": "67642952",
   "metadata": {},
   "source": [
    "# Merging Audio and video files "
   ]
  },
  {
   "cell_type": "code",
   "execution_count": 10,
   "id": "8040830b",
   "metadata": {},
   "outputs": [],
   "source": [
    "without_audio=VideoFileClip(\"without_subcribe.mp4\")\n",
    "tkinter_audio=AudioFileClip(\"tkinterAudio.mp3\")"
   ]
  },
  {
   "cell_type": "code",
   "execution_count": 13,
   "id": "da84b588",
   "metadata": {},
   "outputs": [
    {
     "name": "stdout",
     "output_type": "stream",
     "text": [
      "Moviepy - Building video new_video.mp4.\n",
      "MoviePy - Writing audio in new_videoTEMP_MPY_wvf_snd.mp3\n"
     ]
    },
    {
     "name": "stderr",
     "output_type": "stream",
     "text": [
      "                                                                                                                       \r"
     ]
    },
    {
     "name": "stdout",
     "output_type": "stream",
     "text": [
      "MoviePy - Done.\n",
      "Moviepy - Writing video new_video.mp4\n",
      "\n"
     ]
    },
    {
     "name": "stderr",
     "output_type": "stream",
     "text": [
      "                                                                                                                       \r"
     ]
    },
    {
     "name": "stdout",
     "output_type": "stream",
     "text": [
      "Moviepy - Done !\n",
      "Moviepy - video ready new_video.mp4\n"
     ]
    }
   ],
   "source": [
    "new_video=without_audio.set_audio(tkinter_audio)\n",
    "new_video.write_videofile(\"new_video.mp4\")"
   ]
  },
  {
   "cell_type": "code",
   "execution_count": null,
   "id": "cf27e878",
   "metadata": {},
   "outputs": [],
   "source": []
  }
 ],
 "metadata": {
  "kernelspec": {
   "display_name": "Python 3 (ipykernel)",
   "language": "python",
   "name": "python3"
  },
  "language_info": {
   "codemirror_mode": {
    "name": "ipython",
    "version": 3
   },
   "file_extension": ".py",
   "mimetype": "text/x-python",
   "name": "python",
   "nbconvert_exporter": "python",
   "pygments_lexer": "ipython3",
   "version": "3.10.4"
  }
 },
 "nbformat": 4,
 "nbformat_minor": 5
}
