{
 "cells": [
  {
   "cell_type": "code",
   "execution_count": 11,
   "id": "5b166b99",
   "metadata": {},
   "outputs": [
    {
     "name": "stdout",
     "output_type": "stream",
     "text": [
      "[1 2 3 4 5 6 6 7]\n",
      "<class 'numpy.ndarray'>\n"
     ]
    }
   ],
   "source": [
    "import numpy as np\n",
    "arr1=np.array([1,2,3,4,5,6,6,7])\n",
    "print(arr1)\n",
    "print(type(arr1))\n",
    "arr2=np.array([[2,4,2],[4,2,5]])  #2 rows 3 columns \n"
   ]
  },
  {
   "cell_type": "code",
   "execution_count": 12,
   "id": "4c141a4b",
   "metadata": {},
   "outputs": [
    {
     "data": {
      "text/plain": [
       "(2, 3)"
      ]
     },
     "execution_count": 12,
     "metadata": {},
     "output_type": "execute_result"
    }
   ],
   "source": [
    "arr2.shape\n"
   ]
  },
  {
   "cell_type": "code",
   "execution_count": 13,
   "id": "f780346a",
   "metadata": {},
   "outputs": [
    {
     "data": {
      "text/plain": [
       "dtype('int32')"
      ]
     },
     "execution_count": 13,
     "metadata": {},
     "output_type": "execute_result"
    }
   ],
   "source": [
    "arr2.dtype\n",
    "\n"
   ]
  },
  {
   "cell_type": "code",
   "execution_count": 8,
   "id": "cf385321",
   "metadata": {
    "scrolled": false
   },
   "outputs": [
    {
     "data": {
      "text/plain": [
       "array([[0., 0., 0.],\n",
       "       [0., 0., 0.],\n",
       "       [0., 0., 0.],\n",
       "       [0., 0., 0.],\n",
       "       [0., 0., 0.],\n",
       "       [0., 0., 0.]])"
      ]
     },
     "execution_count": 8,
     "metadata": {},
     "output_type": "execute_result"
    }
   ],
   "source": [
    "#for blank array\n",
    "np.zeros(5)\n",
    "np.zeros((6,3))   # 6 rows by 3 columns \n"
   ]
  },
  {
   "cell_type": "code",
   "execution_count": 9,
   "id": "1d45107a",
   "metadata": {},
   "outputs": [
    {
     "data": {
      "text/plain": [
       "dtype('float64')"
      ]
     },
     "execution_count": 9,
     "metadata": {},
     "output_type": "execute_result"
    }
   ],
   "source": [
    "np.ones(5).dtype\n"
   ]
  },
  {
   "cell_type": "code",
   "execution_count": 23,
   "id": "df52364f",
   "metadata": {
    "scrolled": true
   },
   "outputs": [
    {
     "data": {
      "text/plain": [
       "array([[0., 0.],\n",
       "       [0., 0.],\n",
       "       [0., 0.]])"
      ]
     },
     "execution_count": 23,
     "metadata": {},
     "output_type": "execute_result"
    }
   ],
   "source": [
    "np.empty((3,2))\n"
   ]
  },
  {
   "cell_type": "code",
   "execution_count": 19,
   "id": "ed9e1c05",
   "metadata": {},
   "outputs": [
    {
     "data": {
      "text/plain": [
       "array([ 1,  4,  9, 16, 25, 36, 36, 49])"
      ]
     },
     "execution_count": 19,
     "metadata": {},
     "output_type": "execute_result"
    }
   ],
   "source": [
    "arr1*arr1\n"
   ]
  },
  {
   "cell_type": "code",
   "execution_count": 21,
   "id": "504344b1",
   "metadata": {},
   "outputs": [],
   "source": [
    "#arr1**arr1\n"
   ]
  },
  {
   "cell_type": "code",
   "execution_count": 24,
   "id": "b80fc4f1",
   "metadata": {},
   "outputs": [
    {
     "data": {
      "text/plain": [
       "array([1.        , 0.5       , 0.33333333, 0.25      , 0.2       ,\n",
       "       0.16666667, 0.16666667, 0.14285714])"
      ]
     },
     "execution_count": 24,
     "metadata": {},
     "output_type": "execute_result"
    }
   ],
   "source": [
    "1/arr1\n"
   ]
  },
  {
   "cell_type": "markdown",
   "id": "df90cc1e",
   "metadata": {},
   "source": [
    "# Silicing in numpy\n"
   ]
  },
  {
   "cell_type": "code",
   "execution_count": 25,
   "id": "fbedddfe",
   "metadata": {
    "scrolled": true
   },
   "outputs": [
    {
     "data": {
      "text/plain": [
       "array([1, 2, 3, 4, 5, 6, 6, 7])"
      ]
     },
     "execution_count": 25,
     "metadata": {},
     "output_type": "execute_result"
    }
   ],
   "source": [
    "arr1\n"
   ]
  },
  {
   "cell_type": "code",
   "execution_count": 36,
   "id": "6a5442da",
   "metadata": {},
   "outputs": [],
   "source": [
    "arr3=np.array([3,4,56,6,6,100])\n"
   ]
  },
  {
   "cell_type": "code",
   "execution_count": 38,
   "id": "e59481c7",
   "metadata": {},
   "outputs": [
    {
     "data": {
      "text/plain": [
       "array([ 56,   6,   6, 100])"
      ]
     },
     "execution_count": 38,
     "metadata": {},
     "output_type": "execute_result"
    }
   ],
   "source": [
    "arr3[2:6]\n"
   ]
  },
  {
   "cell_type": "code",
   "execution_count": 39,
   "id": "6ffa83fe",
   "metadata": {},
   "outputs": [],
   "source": [
    "arr3[0]=15\n"
   ]
  },
  {
   "cell_type": "code",
   "execution_count": 43,
   "id": "14c06be4",
   "metadata": {},
   "outputs": [
    {
     "data": {
      "text/plain": [
       "array([ 15,   4,  56,   6,   6, 100])"
      ]
     },
     "execution_count": 43,
     "metadata": {},
     "output_type": "execute_result"
    }
   ],
   "source": [
    "arr3\n"
   ]
  },
  {
   "cell_type": "code",
   "execution_count": 44,
   "id": "c80642b3",
   "metadata": {},
   "outputs": [],
   "source": [
    "arr4=arr3.copy()\n"
   ]
  },
  {
   "cell_type": "code",
   "execution_count": 45,
   "id": "1649caac",
   "metadata": {},
   "outputs": [
    {
     "data": {
      "text/plain": [
       "array([ 15,   4,  56,   6,   6, 100])"
      ]
     },
     "execution_count": 45,
     "metadata": {},
     "output_type": "execute_result"
    }
   ],
   "source": [
    "arr4\n"
   ]
  },
  {
   "cell_type": "code",
   "execution_count": 49,
   "id": "f87bcba0",
   "metadata": {},
   "outputs": [],
   "source": [
    "arr4[2]=200  #put 200 in index 2  56 replace to 200\n",
    "\n"
   ]
  },
  {
   "cell_type": "code",
   "execution_count": 47,
   "id": "3319d8c0",
   "metadata": {
    "scrolled": true
   },
   "outputs": [
    {
     "data": {
      "text/plain": [
       "array([ 15,   4, 200,   6,   6, 100])"
      ]
     },
     "execution_count": 47,
     "metadata": {},
     "output_type": "execute_result"
    }
   ],
   "source": [
    "arr4\n"
   ]
  },
  {
   "cell_type": "code",
   "execution_count": null,
   "id": "26c7b943",
   "metadata": {},
   "outputs": [],
   "source": []
  }
 ],
 "metadata": {
  "kernelspec": {
   "display_name": "Python 3 (ipykernel)",
   "language": "python",
   "name": "python3"
  },
  "language_info": {
   "codemirror_mode": {
    "name": "ipython",
    "version": 3
   },
   "file_extension": ".py",
   "mimetype": "text/x-python",
   "name": "python",
   "nbconvert_exporter": "python",
   "pygments_lexer": "ipython3",
   "version": "3.10.4"
  }
 },
 "nbformat": 4,
 "nbformat_minor": 5
}
