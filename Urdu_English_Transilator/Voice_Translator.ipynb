{
 "cells": [
  {
   "cell_type": "code",
   "execution_count": 1,
   "id": "3e8812b3",
   "metadata": {},
   "outputs": [],
   "source": [
    "#using this pakages\n",
    "#Googletransilator\n",
    "#speechregonition\n",
    "#playsound\n",
    "#pyaudio\n",
    "#googlespeech"
   ]
  },
  {
   "cell_type": "code",
   "execution_count": 2,
   "id": "e8608f50",
   "metadata": {},
   "outputs": [],
   "source": [
    "import googletrans\n",
    "import speech_recognition\n",
    "import gtts\n",
    "import playsound"
   ]
  },
  {
   "cell_type": "code",
   "execution_count": 3,
   "id": "d03c738c",
   "metadata": {},
   "outputs": [],
   "source": [
    "#print(googletrans.LANGUAGES)   #This code print all the languages "
   ]
  },
  {
   "cell_type": "code",
   "execution_count": 4,
   "id": "d78542ab",
   "metadata": {},
   "outputs": [],
   "source": [
    "# translator=googletrans.Translator()\n",
    "# translation=translator.translate(\"hello\",dest=\"fr\")\n",
    "# print(translation)"
   ]
  },
  {
   "cell_type": "code",
   "execution_count": null,
   "id": "5eff0b15",
   "metadata": {},
   "outputs": [
    {
     "name": "stdout",
     "output_type": "stream",
     "text": [
      "Please Speek\n"
     ]
    }
   ],
   "source": [
    "reconizer=speech_recognition.Recognizer()\n",
    "with speech_recognition.Microphone() as source:\n",
    "    print(\"Please Speek\")\n",
    "    voice=reconizer.listen(source)\n",
    "    text=reconizer.recognize_google(voice,language=\"fr\")\n",
    "    print(text)\n",
    "    translator=googletrans.Translator()\n",
    "translation=translator.translate(translation.text,dest=\"fr\")\n",
    "print(translation.text)\n",
    "\n",
    "\n"
   ]
  },
  {
   "cell_type": "code",
   "execution_count": null,
   "id": "9a36ec2f",
   "metadata": {},
   "outputs": [],
   "source": [
    "coverted_audio=gtts.gTTS(translation,lang=\"fr\")\n",
    "converted_audio.save('frist.mp3')\n",
    "playsound.playsound(\"frist.mp\")"
   ]
  },
  {
   "cell_type": "code",
   "execution_count": null,
   "id": "89a8d82a",
   "metadata": {},
   "outputs": [],
   "source": []
  },
  {
   "cell_type": "code",
   "execution_count": null,
   "id": "16e49ec1",
   "metadata": {},
   "outputs": [],
   "source": []
  }
 ],
 "metadata": {
  "kernelspec": {
   "display_name": "Python 3 (ipykernel)",
   "language": "python",
   "name": "python3"
  },
  "language_info": {
   "codemirror_mode": {
    "name": "ipython",
    "version": 3
   },
   "file_extension": ".py",
   "mimetype": "text/x-python",
   "name": "python",
   "nbconvert_exporter": "python",
   "pygments_lexer": "ipython3",
   "version": "3.10.4"
  }
 },
 "nbformat": 4,
 "nbformat_minor": 5
}
