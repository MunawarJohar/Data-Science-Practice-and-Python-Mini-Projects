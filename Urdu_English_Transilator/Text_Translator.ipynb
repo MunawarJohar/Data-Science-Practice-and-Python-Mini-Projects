{
 "cells": [
  {
   "cell_type": "code",
   "execution_count": 1,
   "id": "3e8812b3",
   "metadata": {},
   "outputs": [],
   "source": [
    "#using this pakages\n",
    "#Googletransilator"
   ]
  },
  {
   "cell_type": "code",
   "execution_count": 2,
   "id": "e8608f50",
   "metadata": {},
   "outputs": [],
   "source": [
    "import googletrans\n"
   ]
  },
  {
   "cell_type": "code",
   "execution_count": 3,
   "id": "d03c738c",
   "metadata": {},
   "outputs": [],
   "source": [
    "#print(googletrans.LANGUAGES)   #This code print all the languages "
   ]
  },
  {
   "cell_type": "code",
   "execution_count": 4,
   "id": "d78542ab",
   "metadata": {},
   "outputs": [
    {
     "name": "stdout",
     "output_type": "stream",
     "text": [
      "Enter your text :hello everyone hope you all of find today our topic is dark web\n"
     ]
    }
   ],
   "source": [
    "text=input(\"Enter your text :\")\n",
    "translator=googletrans.Translator()\n",
    "translation=translator.translate(text,dest=\"ur\")\n",
    "#print(translation)\n"
   ]
  },
  {
   "cell_type": "code",
   "execution_count": 5,
   "id": "89a8d82a",
   "metadata": {},
   "outputs": [
    {
     "name": "stdout",
     "output_type": "stream",
     "text": [
      "سب کو ہیلو امید ہے کہ آپ سب کو آج ہمارا موضوع ڈارک ویب ہے۔\n"
     ]
    }
   ],
   "source": [
    "print(translation.text)"
   ]
  },
  {
   "cell_type": "code",
   "execution_count": null,
   "id": "16e49ec1",
   "metadata": {},
   "outputs": [],
   "source": []
  }
 ],
 "metadata": {
  "kernelspec": {
   "display_name": "Python 3 (ipykernel)",
   "language": "python",
   "name": "python3"
  },
  "language_info": {
   "codemirror_mode": {
    "name": "ipython",
    "version": 3
   },
   "file_extension": ".py",
   "mimetype": "text/x-python",
   "name": "python",
   "nbconvert_exporter": "python",
   "pygments_lexer": "ipython3",
   "version": "3.10.4"
  }
 },
 "nbformat": 4,
 "nbformat_minor": 5
}
